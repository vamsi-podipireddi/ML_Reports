{
 "cells": [
  {
   "cell_type": "code",
   "execution_count": null,
   "id": "21c1d411",
   "metadata": {},
   "outputs": [],
   "source": [
    "import pandas as pd\n",
    "from pyspark.sql import SparkSession\n",
    "\n",
    "spark = SparkSession.builder.appName(\"PandasToSpark\").getOrCreate()"
   ]
  },
  {
   "cell_type": "code",
   "execution_count": null,
   "id": "018a48df",
   "metadata": {},
   "outputs": [],
   "source": [
    "train_df = pd.read_csv('../Classification/train_data.csv')\n",
    "test_df = pd.read_csv('../Classification/test_data.csv')"
   ]
  },
  {
   "cell_type": "code",
   "execution_count": null,
   "id": "53e4c7eb",
   "metadata": {},
   "outputs": [],
   "source": [
    "sample_0 = train_df[train_df[\"actual\"] == 0].sample(n=50, random_state=42)\n",
    "sample_1 = train_df[train_df[\"actual\"] == 1].sample(n=50, random_state=42)\n",
    "sampled_train_df = pd.concat([sample_0, sample_1]).sample(frac=1, random_state=42).reset_index(drop=True)\n",
    "\n",
    "sample_0 = test_df[test_df[\"actual\"] == 0].sample(n=50, random_state=42)\n",
    "sample_1 = test_df[test_df[\"actual\"] == 1].sample(n=30, random_state=42)\n",
    "sampled_test_df = pd.concat([sample_0, sample_1]).sample(frac=1, random_state=42).reset_index(drop=True)"
   ]
  },
  {
   "cell_type": "code",
   "execution_count": null,
   "id": "c865d368",
   "metadata": {},
   "outputs": [],
   "source": [
    "train_spark_df = spark.createDataFrame(sampled_train_df)\n",
    "test_spark_df = spark.createDataFrame(sampled_test_df)"
   ]
  },
  {
   "cell_type": "code",
   "execution_count": null,
   "id": "ead89706",
   "metadata": {},
   "outputs": [],
   "source": [
    "train_spark_df.columns"
   ]
  },
  {
   "cell_type": "code",
   "execution_count": null,
   "id": "0de078b9",
   "metadata": {},
   "outputs": [],
   "source": [
    "from mlcore.evaluation import BinaryClassifierEvaluator"
   ]
  },
  {
   "cell_type": "code",
   "execution_count": null,
   "id": "f1a4e027",
   "metadata": {},
   "outputs": [],
   "source": [
    "mlcore_evaluator = BinaryClassifierEvaluator(train_spark_df, \"actual\", extra_metrics=True)"
   ]
  },
  {
   "cell_type": "code",
   "execution_count": null,
   "id": "c80681ae",
   "metadata": {},
   "outputs": [],
   "source": [
    "mlcore_evaluator.compute_metrics()"
   ]
  },
  {
   "cell_type": "code",
   "execution_count": null,
   "id": "535ba1fe",
   "metadata": {},
   "outputs": [],
   "source": [
    "report = mlcore_evaluator.generate_plots()"
   ]
  },
  {
   "cell_type": "code",
   "execution_count": null,
   "id": "c5cf461c",
   "metadata": {},
   "outputs": [],
   "source": [
    "report[\"confusion_matrix\"]"
   ]
  },
  {
   "cell_type": "code",
   "execution_count": null,
   "id": "140e0242",
   "metadata": {},
   "outputs": [],
   "source": []
  }
 ],
 "metadata": {
  "kernelspec": {
   "display_name": "ml_learning",
   "language": "python",
   "name": "python3"
  },
  "language_info": {
   "codemirror_mode": {
    "name": "ipython",
    "version": 3
   },
   "file_extension": ".py",
   "mimetype": "text/x-python",
   "name": "python",
   "nbconvert_exporter": "python",
   "pygments_lexer": "ipython3",
   "version": "3.10.16"
  }
 },
 "nbformat": 4,
 "nbformat_minor": 5
}
