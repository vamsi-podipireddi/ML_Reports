{
 "cells": [
  {
   "cell_type": "code",
   "execution_count": 1,
   "id": "306198a3",
   "metadata": {},
   "outputs": [
    {
     "name": "stderr",
     "output_type": "stream",
     "text": [
      "2025-05-03 17:26:27.736509: I tensorflow/core/util/port.cc:153] oneDNN custom operations are on. You may see slightly different numerical results due to floating-point round-off errors from different computation orders. To turn them off, set the environment variable `TF_ENABLE_ONEDNN_OPTS=0`.\n",
      "2025-05-03 17:26:27.737361: I external/local_xla/xla/tsl/cuda/cudart_stub.cc:32] Could not find cuda drivers on your machine, GPU will not be used.\n",
      "2025-05-03 17:26:27.741572: I external/local_xla/xla/tsl/cuda/cudart_stub.cc:32] Could not find cuda drivers on your machine, GPU will not be used.\n",
      "2025-05-03 17:26:27.748774: E external/local_xla/xla/stream_executor/cuda/cuda_fft.cc:467] Unable to register cuFFT factory: Attempting to register factory for plugin cuFFT when one has already been registered\n",
      "WARNING: All log messages before absl::InitializeLog() is called are written to STDERR\n",
      "E0000 00:00:1746293187.759509   31253 cuda_dnn.cc:8579] Unable to register cuDNN factory: Attempting to register factory for plugin cuDNN when one has already been registered\n",
      "E0000 00:00:1746293187.762157   31253 cuda_blas.cc:1407] Unable to register cuBLAS factory: Attempting to register factory for plugin cuBLAS when one has already been registered\n",
      "W0000 00:00:1746293187.784553   31253 computation_placer.cc:177] computation placer already registered. Please check linkage and avoid linking the same target more than once.\n",
      "W0000 00:00:1746293187.784566   31253 computation_placer.cc:177] computation placer already registered. Please check linkage and avoid linking the same target more than once.\n",
      "W0000 00:00:1746293187.784567   31253 computation_placer.cc:177] computation placer already registered. Please check linkage and avoid linking the same target more than once.\n",
      "W0000 00:00:1746293187.784567   31253 computation_placer.cc:177] computation placer already registered. Please check linkage and avoid linking the same target more than once.\n",
      "2025-05-03 17:26:27.790407: I tensorflow/core/platform/cpu_feature_guard.cc:210] This TensorFlow binary is optimized to use available CPU instructions in performance-critical operations.\n",
      "To enable the following instructions: AVX2 AVX512F AVX512_VNNI AVX512_BF16 AVX_VNNI FMA, in other operations, rebuild TensorFlow with the appropriate compiler flags.\n"
     ]
    }
   ],
   "source": [
    "import pandas as pd\n",
    "from pyspark.sql import SparkSession\n",
    "import mlflow\n",
    "import tensorflow as tf\n",
    "from sklearn.model_selection import train_test_split\n",
    "from sklearn.preprocessing import StandardScaler"
   ]
  },
  {
   "cell_type": "code",
   "execution_count": 2,
   "id": "23e5d936",
   "metadata": {},
   "outputs": [
    {
     "name": "stderr",
     "output_type": "stream",
     "text": [
      "your 131072x1 screen size is bogus. expect trouble\n",
      "25/05/03 17:26:30 WARN Utils: Your hostname, VamsiPC resolves to a loopback address: 127.0.1.1; using 10.255.255.254 instead (on interface lo)\n",
      "25/05/03 17:26:30 WARN Utils: Set SPARK_LOCAL_IP if you need to bind to another address\n",
      "Setting default log level to \"WARN\".\n",
      "To adjust logging level use sc.setLogLevel(newLevel). For SparkR, use setLogLevel(newLevel).\n",
      "25/05/03 17:26:30 WARN NativeCodeLoader: Unable to load native-hadoop library for your platform... using builtin-java classes where applicable\n"
     ]
    }
   ],
   "source": [
    "spark = SparkSession.builder.appName(\"PandasToSpark\").getOrCreate()"
   ]
  },
  {
   "cell_type": "code",
   "execution_count": 3,
   "id": "1247f760",
   "metadata": {},
   "outputs": [],
   "source": [
    "train_df = pd.read_csv('train.csv')"
   ]
  },
  {
   "cell_type": "code",
   "execution_count": 4,
   "id": "a923da15",
   "metadata": {},
   "outputs": [
    {
     "data": {
      "text/plain": [
       "Exited\n",
       "0    130113\n",
       "1     34921\n",
       "Name: count, dtype: int64"
      ]
     },
     "execution_count": 4,
     "metadata": {},
     "output_type": "execute_result"
    }
   ],
   "source": [
    "train_df[\"Exited\"].value_counts()"
   ]
  },
  {
   "cell_type": "code",
   "execution_count": 5,
   "id": "27568a47",
   "metadata": {},
   "outputs": [
    {
     "name": "stdout",
     "output_type": "stream",
     "text": [
      "Exited\n",
      "0    34921\n",
      "1    34921\n",
      "Name: count, dtype: int64\n"
     ]
    }
   ],
   "source": [
    "# Sample 34921 records where Exited == 0 and combine with all records where Exited == 1\n",
    "sampled_df = pd.concat([\n",
    "    train_df[train_df[\"Exited\"] == 1],\n",
    "    train_df[train_df[\"Exited\"] == 0].sample(n=34921, random_state=42)\n",
    "]).sample(frac=1, random_state=42)  # shuffle the resulting dataframe\n",
    "\n",
    "print(sampled_df[\"Exited\"].value_counts())"
   ]
  },
  {
   "cell_type": "code",
   "execution_count": 6,
   "id": "e8342fd4",
   "metadata": {
    "vscode": {
     "languageId": "markdown"
    }
   },
   "outputs": [],
   "source": [
    "# Convert pandas DataFrame to Spark DataFrame\n",
    "spark_df = spark.createDataFrame(sampled_df)"
   ]
  },
  {
   "cell_type": "code",
   "execution_count": 7,
   "id": "ef37cbb4",
   "metadata": {
    "vscode": {
     "languageId": "markdown"
    }
   },
   "outputs": [
    {
     "name": "stdout",
     "output_type": "stream",
     "text": [
      "root\n",
      " |-- id: long (nullable = true)\n",
      " |-- CustomerId: long (nullable = true)\n",
      " |-- Surname: string (nullable = true)\n",
      " |-- CreditScore: long (nullable = true)\n",
      " |-- Geography: string (nullable = true)\n",
      " |-- Gender: string (nullable = true)\n",
      " |-- Age: double (nullable = true)\n",
      " |-- Tenure: long (nullable = true)\n",
      " |-- Balance: double (nullable = true)\n",
      " |-- NumOfProducts: long (nullable = true)\n",
      " |-- HasCrCard: double (nullable = true)\n",
      " |-- IsActiveMember: double (nullable = true)\n",
      " |-- EstimatedSalary: double (nullable = true)\n",
      " |-- Exited: long (nullable = true)\n",
      "\n"
     ]
    }
   ],
   "source": [
    "spark_df.printSchema()"
   ]
  },
  {
   "cell_type": "code",
   "execution_count": 8,
   "id": "ee2a54ae",
   "metadata": {},
   "outputs": [
    {
     "name": "stdout",
     "output_type": "stream",
     "text": [
      "Epoch 1/10\n"
     ]
    },
    {
     "name": "stderr",
     "output_type": "stream",
     "text": [
      "/root/miniconda3/envs/ml_learning/lib/python3.10/site-packages/keras/src/layers/core/dense.py:87: UserWarning: Do not pass an `input_shape`/`input_dim` argument to a layer. When using Sequential models, prefer using an `Input(shape)` object as the first layer in the model instead.\n",
      "  super().__init__(activity_regularizer=activity_regularizer, **kwargs)\n",
      "2025-05-03 17:26:50.187430: E external/local_xla/xla/stream_executor/cuda/cuda_platform.cc:51] failed call to cuInit: INTERNAL: CUDA error: Failed call to cuInit: UNKNOWN ERROR (303)\n"
     ]
    },
    {
     "name": "stdout",
     "output_type": "stream",
     "text": [
      "\u001b[1m1397/1397\u001b[0m \u001b[32m━━━━━━━━━━━━━━━━━━━━\u001b[0m\u001b[37m\u001b[0m \u001b[1m2s\u001b[0m 959us/step - accuracy: 0.7324 - loss: 0.5232 - val_accuracy: 0.7987 - val_loss: 0.4357\n",
      "Epoch 2/10\n",
      "\u001b[1m1397/1397\u001b[0m \u001b[32m━━━━━━━━━━━━━━━━━━━━\u001b[0m\u001b[37m\u001b[0m \u001b[1m1s\u001b[0m 891us/step - accuracy: 0.7990 - loss: 0.4341 - val_accuracy: 0.8019 - val_loss: 0.4280\n",
      "Epoch 3/10\n",
      "\u001b[1m1397/1397\u001b[0m \u001b[32m━━━━━━━━━━━━━━━━━━━━\u001b[0m\u001b[37m\u001b[0m \u001b[1m1s\u001b[0m 874us/step - accuracy: 0.8006 - loss: 0.4280 - val_accuracy: 0.8033 - val_loss: 0.4241\n",
      "Epoch 4/10\n",
      "\u001b[1m1397/1397\u001b[0m \u001b[32m━━━━━━━━━━━━━━━━━━━━\u001b[0m\u001b[37m\u001b[0m \u001b[1m1s\u001b[0m 875us/step - accuracy: 0.7997 - loss: 0.4293 - val_accuracy: 0.8075 - val_loss: 0.4222\n",
      "Epoch 5/10\n",
      "\u001b[1m1397/1397\u001b[0m \u001b[32m━━━━━━━━━━━━━━━━━━━━\u001b[0m\u001b[37m\u001b[0m \u001b[1m1s\u001b[0m 865us/step - accuracy: 0.8024 - loss: 0.4236 - val_accuracy: 0.8072 - val_loss: 0.4255\n",
      "Epoch 6/10\n",
      "\u001b[1m1397/1397\u001b[0m \u001b[32m━━━━━━━━━━━━━━━━━━━━\u001b[0m\u001b[37m\u001b[0m \u001b[1m1s\u001b[0m 855us/step - accuracy: 0.8014 - loss: 0.4266 - val_accuracy: 0.8059 - val_loss: 0.4238\n",
      "Epoch 7/10\n",
      "\u001b[1m1397/1397\u001b[0m \u001b[32m━━━━━━━━━━━━━━━━━━━━\u001b[0m\u001b[37m\u001b[0m \u001b[1m1s\u001b[0m 864us/step - accuracy: 0.8064 - loss: 0.4211 - val_accuracy: 0.8055 - val_loss: 0.4218\n",
      "Epoch 8/10\n",
      "\u001b[1m1397/1397\u001b[0m \u001b[32m━━━━━━━━━━━━━━━━━━━━\u001b[0m\u001b[37m\u001b[0m \u001b[1m1s\u001b[0m 853us/step - accuracy: 0.8012 - loss: 0.4274 - val_accuracy: 0.8061 - val_loss: 0.4254\n",
      "Epoch 9/10\n",
      "\u001b[1m1397/1397\u001b[0m \u001b[32m━━━━━━━━━━━━━━━━━━━━\u001b[0m\u001b[37m\u001b[0m \u001b[1m1s\u001b[0m 860us/step - accuracy: 0.8059 - loss: 0.4220 - val_accuracy: 0.8055 - val_loss: 0.4218\n",
      "Epoch 10/10\n",
      "\u001b[1m1397/1397\u001b[0m \u001b[32m━━━━━━━━━━━━━━━━━━━━\u001b[0m\u001b[37m\u001b[0m \u001b[1m1s\u001b[0m 884us/step - accuracy: 0.8007 - loss: 0.4234 - val_accuracy: 0.8065 - val_loss: 0.4218\n",
      "\u001b[1m437/437\u001b[0m \u001b[32m━━━━━━━━━━━━━━━━━━━━\u001b[0m\u001b[37m\u001b[0m \u001b[1m0s\u001b[0m 583us/step - accuracy: 0.8030 - loss: 0.4236\n",
      "Test accuracy: 0.8063569068908691\n"
     ]
    }
   ],
   "source": [
    "# Drop identifier columns that are unlikely useful for prediction\n",
    "sampled_df = sampled_df.drop([\"id\", \"CustomerId\", \"Surname\"], axis=1)\n",
    "\n",
    "# One-hot encode categorical features: Geography and Gender\n",
    "sampled_df = pd.get_dummies(sampled_df, columns=[\"Geography\", \"Gender\"], drop_first=True)\n",
    "\n",
    "# Separate features and target\n",
    "X = sampled_df.drop(\"Exited\", axis=1)\n",
    "y = sampled_df[\"Exited\"]\n",
    "\n",
    "# Scale the feature set\n",
    "scaler = StandardScaler()\n",
    "X_scaled = scaler.fit_transform(X)\n",
    "\n",
    "# Split into training and testing sets\n",
    "X_train, X_test, y_train, y_test = train_test_split(X_scaled, y, test_size=0.2, random_state=42)\n",
    "\n",
    "# Build the deep learning model\n",
    "model = tf.keras.Sequential([\n",
    "    tf.keras.layers.Dense(64, activation='relu', input_shape=(X_train.shape[1],)),\n",
    "    tf.keras.layers.Dense(32, activation='relu'),\n",
    "    tf.keras.layers.Dense(1, activation='sigmoid')  # Sigmoid for binary classification\n",
    "])\n",
    "\n",
    "model.compile(optimizer='adam', loss='binary_crossentropy', metrics=['accuracy'])\n",
    "\n",
    "# Train the model\n",
    "model.fit(X_train, y_train, epochs=10, batch_size=32, validation_split=0.2)\n",
    "\n",
    "# Evaluate the model on the test set\n",
    "loss, accuracy = model.evaluate(X_test, y_test)\n",
    "print(f\"Test accuracy: {accuracy}\")"
   ]
  },
  {
   "cell_type": "code",
   "execution_count": null,
   "id": "1c41a2fd",
   "metadata": {},
   "outputs": [
    {
     "name": "stdout",
     "output_type": "stream",
     "text": [
      "\u001b[1m1747/1747\u001b[0m \u001b[32m━━━━━━━━━━━━━━━━━━━━\u001b[0m\u001b[37m\u001b[0m \u001b[1m1s\u001b[0m 428us/step\n",
      "Model Signature:\n",
      "inputs: \n",
      "  [Tensor('float64', (-1, 11))]\n",
      "outputs: \n",
      "  [Tensor('float32', (-1, 1))]\n",
      "params: \n",
      "  None\n",
      "\n",
      "\n",
      "Input Example:\n",
      "[[ 0.70400433  0.18859525 -0.34915267  0.68488166  4.20123779  0.57789035\n",
      "  -0.85620974 -0.19822058 -0.60802359 -0.51070781 -1.02779073]\n",
      " [ 0.71638988  0.29579343  0.71698978 -0.97175366  0.87898701  0.57789035\n",
      "   1.16793813  0.60582979 -0.60802359  1.95806677 -1.02779073]\n",
      " [-0.16298391 -0.77618838  0.71698978  1.21192243 -0.78213838  0.57789035\n",
      "  -0.85620974  0.07870098 -0.60802359 -0.51070781  0.97296071]\n",
      " [-0.95565887  0.29579343 -0.34915267  0.61686682 -0.78213838  0.57789035\n",
      "   1.16793813 -0.15208642  1.64467302 -0.51070781  0.97296071]\n",
      " [-1.37676745  0.83178433 -0.34915267 -0.97175366  0.87898701  0.57789035\n",
      "   1.16793813 -0.18602756 -0.60802359 -0.51070781  0.97296071]]\n"
     ]
    }
   ],
   "source": [
    "from mlflow.models.signature import infer_signature\n",
    "\n",
    "# Generate the model signature based on the training data\n",
    "signature = infer_signature(X_train, model.predict(X_train))\n",
    "\n",
    "print(\"Model Signature:\")\n",
    "print(signature)"
   ]
  },
  {
   "cell_type": "code",
   "execution_count": 19,
   "id": "fd697115",
   "metadata": {},
   "outputs": [],
   "source": [
    "import numpy as np\n",
    "\n",
    "input_example = np.array(X_test[:5])"
   ]
  },
  {
   "cell_type": "code",
   "execution_count": 20,
   "id": "6850e97e",
   "metadata": {},
   "outputs": [
    {
     "data": {
      "text/plain": [
       "array([[ 0.70400433,  0.18859525, -0.34915267,  0.68488166,  4.20123779,\n",
       "         0.57789035, -0.85620974, -0.19822058, -0.60802359, -0.51070781,\n",
       "        -1.02779073],\n",
       "       [ 0.71638988,  0.29579343,  0.71698978, -0.97175366,  0.87898701,\n",
       "         0.57789035,  1.16793813,  0.60582979, -0.60802359,  1.95806677,\n",
       "        -1.02779073],\n",
       "       [-0.16298391, -0.77618838,  0.71698978,  1.21192243, -0.78213838,\n",
       "         0.57789035, -0.85620974,  0.07870098, -0.60802359, -0.51070781,\n",
       "         0.97296071],\n",
       "       [-0.95565887,  0.29579343, -0.34915267,  0.61686682, -0.78213838,\n",
       "         0.57789035,  1.16793813, -0.15208642,  1.64467302, -0.51070781,\n",
       "         0.97296071],\n",
       "       [-1.37676745,  0.83178433, -0.34915267, -0.97175366,  0.87898701,\n",
       "         0.57789035,  1.16793813, -0.18602756, -0.60802359, -0.51070781,\n",
       "         0.97296071]])"
      ]
     },
     "execution_count": 20,
     "metadata": {},
     "output_type": "execute_result"
    }
   ],
   "source": [
    "input_example"
   ]
  },
  {
   "cell_type": "code",
   "execution_count": 9,
   "id": "32ba6b96",
   "metadata": {},
   "outputs": [
    {
     "name": "stderr",
     "output_type": "stream",
     "text": [
      "2025/05/03 17:27:14 WARNING mlflow.keras.save: You are saving a Keras model without specifying model signature.\n",
      "\u001b[31m2025/05/03 17:27:20 WARNING mlflow.models.model: Model logged without a signature and input example. Please set `input_example` parameter when logging the model to auto infer the model signature.\u001b[0m\n",
      "Successfully registered model 'ChurnPredictionModel'.\n",
      "Created version '1' of model 'ChurnPredictionModel'.\n"
     ]
    }
   ],
   "source": [
    "with mlflow.start_run():\n",
    "    mlflow.keras.log_model(model, \"keras_model\", registered_model_name=\"ChurnPredictionModel\")\n",
    "    mlflow.log_metric(\"accuracy\", accuracy)\n",
    "    mlflow.log_param(\"epochs\", 10)\n",
    "    mlflow.log_param(\"batch_size\", 32)"
   ]
  },
  {
   "cell_type": "code",
   "execution_count": 10,
   "id": "17175e5d",
   "metadata": {},
   "outputs": [
    {
     "name": "stdout",
     "output_type": "stream",
     "text": [
      "\u001b[1m1/1\u001b[0m \u001b[32m━━━━━━━━━━━━━━━━━━━━\u001b[0m\u001b[37m\u001b[0m \u001b[1m0s\u001b[0m 32ms/step\n",
      "[[1]\n",
      " [0]\n",
      " [0]\n",
      " [1]\n",
      " [0]]\n"
     ]
    }
   ],
   "source": [
    "# Load the model for inference\n",
    "loaded_model = mlflow.keras.load_model(\"models:/ChurnPredictionModel/1\")\n",
    "# Make predictions\n",
    "predictions = loaded_model.predict(X_test[:5])\n",
    "predictions = (predictions > 0.5).astype(int)  # Convert probabilities to binary predictions\n",
    "print(predictions)"
   ]
  },
  {
   "cell_type": "code",
   "execution_count": 11,
   "id": "12b08b77",
   "metadata": {},
   "outputs": [
    {
     "data": {
      "application/vnd.microsoft.datawrangler.viewer.v0+json": {
       "columns": [
        {
         "name": "index",
         "rawType": "int64",
         "type": "integer"
        },
        {
         "name": "CreditScore",
         "rawType": "int64",
         "type": "integer"
        },
        {
         "name": "Age",
         "rawType": "float64",
         "type": "float"
        },
        {
         "name": "Tenure",
         "rawType": "int64",
         "type": "integer"
        },
        {
         "name": "Balance",
         "rawType": "float64",
         "type": "float"
        },
        {
         "name": "NumOfProducts",
         "rawType": "int64",
         "type": "integer"
        },
        {
         "name": "HasCrCard",
         "rawType": "float64",
         "type": "float"
        },
        {
         "name": "IsActiveMember",
         "rawType": "float64",
         "type": "float"
        },
        {
         "name": "EstimatedSalary",
         "rawType": "float64",
         "type": "float"
        },
        {
         "name": "Exited",
         "rawType": "int64",
         "type": "integer"
        },
        {
         "name": "Geography_Germany",
         "rawType": "bool",
         "type": "boolean"
        },
        {
         "name": "Geography_Spain",
         "rawType": "bool",
         "type": "boolean"
        },
        {
         "name": "Gender_Male",
         "rawType": "bool",
         "type": "boolean"
        }
       ],
       "conversionMethod": "pd.DataFrame",
       "ref": "c099510a-b82a-466f-bc66-047715082c27",
       "rows": [
        [
         "65063",
         "652",
         "32.0",
         "8",
         "167664.83",
         "2",
         "1.0",
         "1.0",
         "125435.47",
         "0",
         "False",
         "False",
         "False"
        ],
        [
         "135598",
         "687",
         "36.0",
         "4",
         "0.0",
         "3",
         "1.0",
         "1.0",
         "132460.29",
         "1",
         "False",
         "False",
         "True"
        ],
        [
         "138368",
         "690",
         "53.0",
         "0",
         "127900.97",
         "2",
         "1.0",
         "0.0",
         "67830.9",
         "1",
         "True",
         "False",
         "False"
        ],
        [
         "99201",
         "659",
         "43.0",
         "1",
         "0.0",
         "1",
         "1.0",
         "0.0",
         "121084.27",
         "1",
         "False",
         "False",
         "True"
        ],
        [
         "61953",
         "512",
         "38.0",
         "1",
         "160541.0",
         "1",
         "0.0",
         "0.0",
         "164038.07",
         "1",
         "False",
         "False",
         "False"
        ],
        [
         "409",
         "527",
         "53.0",
         "8",
         "0.0",
         "1",
         "1.0",
         "1.0",
         "51711.57",
         "0",
         "False",
         "False",
         "True"
        ],
        [
         "116635",
         "686",
         "46.0",
         "0",
         "157866.77",
         "1",
         "0.0",
         "1.0",
         "42364.75",
         "1",
         "True",
         "False",
         "False"
        ],
        [
         "136963",
         "683",
         "37.0",
         "2",
         "135515.66",
         "1",
         "1.0",
         "1.0",
         "47941.84",
         "0",
         "False",
         "False",
         "True"
        ],
        [
         "155843",
         "653",
         "41.0",
         "2",
         "105770.69",
         "1",
         "1.0",
         "0.0",
         "162763.57",
         "1",
         "True",
         "False",
         "False"
        ],
        [
         "126388",
         "681",
         "38.0",
         "6",
         "181804.34",
         "1",
         "1.0",
         "1.0",
         "57517.71",
         "0",
         "True",
         "False",
         "False"
        ],
        [
         "23679",
         "710",
         "68.0",
         "1",
         "133040.32",
         "1",
         "1.0",
         "0.0",
         "109608.81",
         "1",
         "False",
         "False",
         "True"
        ],
        [
         "106411",
         "627",
         "44.0",
         "2",
         "0.0",
         "1",
         "1.0",
         "0.0",
         "147797.54",
         "1",
         "False",
         "False",
         "True"
        ],
        [
         "150227",
         "595",
         "51.0",
         "4",
         "0.0",
         "2",
         "0.0",
         "0.0",
         "95857.18",
         "0",
         "False",
         "True",
         "False"
        ],
        [
         "44901",
         "611",
         "43.0",
         "8",
         "131847.8",
         "2",
         "1.0",
         "0.0",
         "82733.0",
         "0",
         "True",
         "False",
         "True"
        ],
        [
         "56066",
         "711",
         "39.0",
         "5",
         "0.0",
         "2",
         "1.0",
         "1.0",
         "111981.19",
         "0",
         "False",
         "False",
         "True"
        ],
        [
         "139559",
         "463",
         "38.0",
         "7",
         "119787.76",
         "2",
         "1.0",
         "1.0",
         "96660.76",
         "0",
         "False",
         "True",
         "True"
        ],
        [
         "71499",
         "770",
         "39.0",
         "4",
         "123403.85",
         "1",
         "1.0",
         "0.0",
         "116548.02",
         "1",
         "True",
         "False",
         "True"
        ],
        [
         "155691",
         "574",
         "39.0",
         "9",
         "111213.94",
         "1",
         "1.0",
         "0.0",
         "131772.51",
         "0",
         "False",
         "False",
         "False"
        ],
        [
         "81320",
         "657",
         "38.0",
         "5",
         "123760.68",
         "1",
         "1.0",
         "1.0",
         "47019.66",
         "0",
         "True",
         "False",
         "False"
        ],
        [
         "149229",
         "619",
         "57.0",
         "3",
         "116471.43",
         "2",
         "1.0",
         "1.0",
         "175314.87",
         "0",
         "True",
         "False",
         "False"
        ],
        [
         "33700",
         "696",
         "52.0",
         "7",
         "0.0",
         "1",
         "1.0",
         "0.0",
         "143629.77",
         "1",
         "False",
         "False",
         "False"
        ],
        [
         "112713",
         "743",
         "48.0",
         "6",
         "0.0",
         "3",
         "1.0",
         "0.0",
         "168038.07",
         "1",
         "False",
         "False",
         "True"
        ],
        [
         "124869",
         "707",
         "40.0",
         "8",
         "74896.33",
         "1",
         "1.0",
         "0.0",
         "99595.67",
         "1",
         "False",
         "True",
         "True"
        ],
        [
         "45241",
         "594",
         "39.0",
         "9",
         "115409.18",
         "1",
         "1.0",
         "1.0",
         "79919.13",
         "1",
         "False",
         "False",
         "True"
        ],
        [
         "95090",
         "574",
         "45.0",
         "0",
         "0.0",
         "2",
         "0.0",
         "1.0",
         "172175.9",
         "0",
         "False",
         "False",
         "False"
        ],
        [
         "49833",
         "575",
         "45.0",
         "9",
         "105229.54",
         "1",
         "0.0",
         "0.0",
         "107981.75",
         "0",
         "True",
         "False",
         "True"
        ],
        [
         "44009",
         "617",
         "36.0",
         "10",
         "115617.24",
         "1",
         "1.0",
         "1.0",
         "71519.4",
         "0",
         "False",
         "True",
         "False"
        ],
        [
         "102530",
         "691",
         "49.0",
         "6",
         "0.0",
         "1",
         "1.0",
         "0.0",
         "98090.69",
         "1",
         "False",
         "False",
         "False"
        ],
        [
         "125029",
         "605",
         "37.0",
         "8",
         "112372.96",
         "1",
         "0.0",
         "0.0",
         "142548.33",
         "1",
         "True",
         "False",
         "True"
        ],
        [
         "33977",
         "634",
         "51.0",
         "2",
         "116574.84",
         "2",
         "1.0",
         "0.0",
         "4121.04",
         "0",
         "True",
         "False",
         "False"
        ],
        [
         "129861",
         "561",
         "37.0",
         "9",
         "0.0",
         "2",
         "1.0",
         "1.0",
         "9170.54",
         "0",
         "False",
         "False",
         "False"
        ],
        [
         "65978",
         "738",
         "38.0",
         "8",
         "161605.95",
         "1",
         "1.0",
         "0.0",
         "131871.74",
         "0",
         "True",
         "False",
         "True"
        ],
        [
         "75161",
         "731",
         "45.0",
         "2",
         "0.0",
         "2",
         "0.0",
         "0.0",
         "30607.11",
         "1",
         "False",
         "True",
         "True"
        ],
        [
         "63389",
         "564",
         "42.0",
         "7",
         "0.0",
         "1",
         "1.0",
         "1.0",
         "115146.4",
         "1",
         "False",
         "False",
         "False"
        ],
        [
         "58660",
         "637",
         "47.0",
         "4",
         "108881.6",
         "1",
         "1.0",
         "1.0",
         "104902.38",
         "1",
         "True",
         "False",
         "False"
        ],
        [
         "159024",
         "668",
         "34.0",
         "6",
         "178056.54",
         "2",
         "0.0",
         "0.0",
         "78858.07",
         "0",
         "False",
         "False",
         "True"
        ],
        [
         "6838",
         "749",
         "37.0",
         "6",
         "0.0",
         "2",
         "0.0",
         "1.0",
         "116944.3",
         "0",
         "False",
         "False",
         "True"
        ],
        [
         "45839",
         "632",
         "44.0",
         "3",
         "86102.27",
         "1",
         "1.0",
         "0.0",
         "180134.88",
         "1",
         "False",
         "False",
         "True"
        ],
        [
         "145024",
         "569",
         "60.0",
         "2",
         "117289.84",
         "1",
         "1.0",
         "1.0",
         "168544.95",
         "1",
         "True",
         "False",
         "False"
        ],
        [
         "45955",
         "646",
         "43.0",
         "3",
         "0.0",
         "1",
         "1.0",
         "0.0",
         "79240.81",
         "1",
         "False",
         "True",
         "False"
        ],
        [
         "134288",
         "678",
         "32.0",
         "7",
         "0.0",
         "2",
         "0.0",
         "1.0",
         "94975.1",
         "0",
         "False",
         "False",
         "False"
        ],
        [
         "53474",
         "636",
         "43.0",
         "3",
         "102025.32",
         "1",
         "0.0",
         "0.0",
         "27345.18",
         "1",
         "True",
         "False",
         "False"
        ],
        [
         "158999",
         "481",
         "46.0",
         "3",
         "160980.03",
         "1",
         "1.0",
         "0.0",
         "145936.28",
         "0",
         "False",
         "False",
         "True"
        ],
        [
         "111817",
         "567",
         "27.0",
         "3",
         "0.0",
         "2",
         "1.0",
         "0.0",
         "130086.47",
         "0",
         "False",
         "True",
         "False"
        ],
        [
         "46396",
         "703",
         "46.0",
         "4",
         "97286.16",
         "1",
         "1.0",
         "1.0",
         "179655.87",
         "1",
         "False",
         "False",
         "False"
        ],
        [
         "114921",
         "599",
         "35.0",
         "3",
         "0.0",
         "1",
         "1.0",
         "0.0",
         "160127.88",
         "1",
         "False",
         "False",
         "False"
        ],
        [
         "50726",
         "604",
         "29.0",
         "5",
         "83548.33",
         "1",
         "0.0",
         "1.0",
         "38587.54",
         "0",
         "False",
         "True",
         "False"
        ],
        [
         "92774",
         "613",
         "33.0",
         "4",
         "142388.18",
         "1",
         "1.0",
         "0.0",
         "27330.59",
         "0",
         "True",
         "False",
         "True"
        ],
        [
         "89030",
         "667",
         "52.0",
         "9",
         "0.0",
         "1",
         "1.0",
         "0.0",
         "147720.27",
         "1",
         "False",
         "False",
         "True"
        ],
        [
         "54017",
         "605",
         "33.0",
         "6",
         "0.0",
         "2",
         "1.0",
         "0.0",
         "149913.97",
         "0",
         "False",
         "False",
         "False"
        ]
       ],
       "shape": {
        "columns": 12,
        "rows": 69842
       }
      },
      "text/html": [
       "<div>\n",
       "<style scoped>\n",
       "    .dataframe tbody tr th:only-of-type {\n",
       "        vertical-align: middle;\n",
       "    }\n",
       "\n",
       "    .dataframe tbody tr th {\n",
       "        vertical-align: top;\n",
       "    }\n",
       "\n",
       "    .dataframe thead th {\n",
       "        text-align: right;\n",
       "    }\n",
       "</style>\n",
       "<table border=\"1\" class=\"dataframe\">\n",
       "  <thead>\n",
       "    <tr style=\"text-align: right;\">\n",
       "      <th></th>\n",
       "      <th>CreditScore</th>\n",
       "      <th>Age</th>\n",
       "      <th>Tenure</th>\n",
       "      <th>Balance</th>\n",
       "      <th>NumOfProducts</th>\n",
       "      <th>HasCrCard</th>\n",
       "      <th>IsActiveMember</th>\n",
       "      <th>EstimatedSalary</th>\n",
       "      <th>Exited</th>\n",
       "      <th>Geography_Germany</th>\n",
       "      <th>Geography_Spain</th>\n",
       "      <th>Gender_Male</th>\n",
       "    </tr>\n",
       "  </thead>\n",
       "  <tbody>\n",
       "    <tr>\n",
       "      <th>65063</th>\n",
       "      <td>652</td>\n",
       "      <td>32.0</td>\n",
       "      <td>8</td>\n",
       "      <td>167664.83</td>\n",
       "      <td>2</td>\n",
       "      <td>1.0</td>\n",
       "      <td>1.0</td>\n",
       "      <td>125435.47</td>\n",
       "      <td>0</td>\n",
       "      <td>False</td>\n",
       "      <td>False</td>\n",
       "      <td>False</td>\n",
       "    </tr>\n",
       "    <tr>\n",
       "      <th>135598</th>\n",
       "      <td>687</td>\n",
       "      <td>36.0</td>\n",
       "      <td>4</td>\n",
       "      <td>0.00</td>\n",
       "      <td>3</td>\n",
       "      <td>1.0</td>\n",
       "      <td>1.0</td>\n",
       "      <td>132460.29</td>\n",
       "      <td>1</td>\n",
       "      <td>False</td>\n",
       "      <td>False</td>\n",
       "      <td>True</td>\n",
       "    </tr>\n",
       "    <tr>\n",
       "      <th>138368</th>\n",
       "      <td>690</td>\n",
       "      <td>53.0</td>\n",
       "      <td>0</td>\n",
       "      <td>127900.97</td>\n",
       "      <td>2</td>\n",
       "      <td>1.0</td>\n",
       "      <td>0.0</td>\n",
       "      <td>67830.90</td>\n",
       "      <td>1</td>\n",
       "      <td>True</td>\n",
       "      <td>False</td>\n",
       "      <td>False</td>\n",
       "    </tr>\n",
       "    <tr>\n",
       "      <th>99201</th>\n",
       "      <td>659</td>\n",
       "      <td>43.0</td>\n",
       "      <td>1</td>\n",
       "      <td>0.00</td>\n",
       "      <td>1</td>\n",
       "      <td>1.0</td>\n",
       "      <td>0.0</td>\n",
       "      <td>121084.27</td>\n",
       "      <td>1</td>\n",
       "      <td>False</td>\n",
       "      <td>False</td>\n",
       "      <td>True</td>\n",
       "    </tr>\n",
       "    <tr>\n",
       "      <th>61953</th>\n",
       "      <td>512</td>\n",
       "      <td>38.0</td>\n",
       "      <td>1</td>\n",
       "      <td>160541.00</td>\n",
       "      <td>1</td>\n",
       "      <td>0.0</td>\n",
       "      <td>0.0</td>\n",
       "      <td>164038.07</td>\n",
       "      <td>1</td>\n",
       "      <td>False</td>\n",
       "      <td>False</td>\n",
       "      <td>False</td>\n",
       "    </tr>\n",
       "    <tr>\n",
       "      <th>...</th>\n",
       "      <td>...</td>\n",
       "      <td>...</td>\n",
       "      <td>...</td>\n",
       "      <td>...</td>\n",
       "      <td>...</td>\n",
       "      <td>...</td>\n",
       "      <td>...</td>\n",
       "      <td>...</td>\n",
       "      <td>...</td>\n",
       "      <td>...</td>\n",
       "      <td>...</td>\n",
       "      <td>...</td>\n",
       "    </tr>\n",
       "    <tr>\n",
       "      <th>31115</th>\n",
       "      <td>619</td>\n",
       "      <td>26.0</td>\n",
       "      <td>8</td>\n",
       "      <td>0.00</td>\n",
       "      <td>2</td>\n",
       "      <td>1.0</td>\n",
       "      <td>1.0</td>\n",
       "      <td>95937.98</td>\n",
       "      <td>0</td>\n",
       "      <td>False</td>\n",
       "      <td>False</td>\n",
       "      <td>True</td>\n",
       "    </tr>\n",
       "    <tr>\n",
       "      <th>29976</th>\n",
       "      <td>534</td>\n",
       "      <td>39.0</td>\n",
       "      <td>3</td>\n",
       "      <td>0.00</td>\n",
       "      <td>1</td>\n",
       "      <td>0.0</td>\n",
       "      <td>0.0</td>\n",
       "      <td>25843.70</td>\n",
       "      <td>1</td>\n",
       "      <td>False</td>\n",
       "      <td>False</td>\n",
       "      <td>True</td>\n",
       "    </tr>\n",
       "    <tr>\n",
       "      <th>115411</th>\n",
       "      <td>516</td>\n",
       "      <td>31.0</td>\n",
       "      <td>5</td>\n",
       "      <td>0.00</td>\n",
       "      <td>1</td>\n",
       "      <td>1.0</td>\n",
       "      <td>1.0</td>\n",
       "      <td>173783.38</td>\n",
       "      <td>0</td>\n",
       "      <td>False</td>\n",
       "      <td>True</td>\n",
       "      <td>True</td>\n",
       "    </tr>\n",
       "    <tr>\n",
       "      <th>4050</th>\n",
       "      <td>715</td>\n",
       "      <td>40.0</td>\n",
       "      <td>8</td>\n",
       "      <td>0.00</td>\n",
       "      <td>1</td>\n",
       "      <td>1.0</td>\n",
       "      <td>1.0</td>\n",
       "      <td>50560.37</td>\n",
       "      <td>1</td>\n",
       "      <td>False</td>\n",
       "      <td>False</td>\n",
       "      <td>True</td>\n",
       "    </tr>\n",
       "    <tr>\n",
       "      <th>75073</th>\n",
       "      <td>489</td>\n",
       "      <td>42.0</td>\n",
       "      <td>7</td>\n",
       "      <td>0.00</td>\n",
       "      <td>1</td>\n",
       "      <td>1.0</td>\n",
       "      <td>1.0</td>\n",
       "      <td>73329.08</td>\n",
       "      <td>1</td>\n",
       "      <td>False</td>\n",
       "      <td>False</td>\n",
       "      <td>True</td>\n",
       "    </tr>\n",
       "  </tbody>\n",
       "</table>\n",
       "<p>69842 rows × 12 columns</p>\n",
       "</div>"
      ],
      "text/plain": [
       "        CreditScore   Age  Tenure    Balance  NumOfProducts  HasCrCard  \\\n",
       "65063           652  32.0       8  167664.83              2        1.0   \n",
       "135598          687  36.0       4       0.00              3        1.0   \n",
       "138368          690  53.0       0  127900.97              2        1.0   \n",
       "99201           659  43.0       1       0.00              1        1.0   \n",
       "61953           512  38.0       1  160541.00              1        0.0   \n",
       "...             ...   ...     ...        ...            ...        ...   \n",
       "31115           619  26.0       8       0.00              2        1.0   \n",
       "29976           534  39.0       3       0.00              1        0.0   \n",
       "115411          516  31.0       5       0.00              1        1.0   \n",
       "4050            715  40.0       8       0.00              1        1.0   \n",
       "75073           489  42.0       7       0.00              1        1.0   \n",
       "\n",
       "        IsActiveMember  EstimatedSalary  Exited  Geography_Germany  \\\n",
       "65063              1.0        125435.47       0              False   \n",
       "135598             1.0        132460.29       1              False   \n",
       "138368             0.0         67830.90       1               True   \n",
       "99201              0.0        121084.27       1              False   \n",
       "61953              0.0        164038.07       1              False   \n",
       "...                ...              ...     ...                ...   \n",
       "31115              1.0         95937.98       0              False   \n",
       "29976              0.0         25843.70       1              False   \n",
       "115411             1.0        173783.38       0              False   \n",
       "4050               1.0         50560.37       1              False   \n",
       "75073              1.0         73329.08       1              False   \n",
       "\n",
       "        Geography_Spain  Gender_Male  \n",
       "65063             False        False  \n",
       "135598            False         True  \n",
       "138368            False        False  \n",
       "99201             False         True  \n",
       "61953             False        False  \n",
       "...                 ...          ...  \n",
       "31115             False         True  \n",
       "29976             False         True  \n",
       "115411             True         True  \n",
       "4050              False         True  \n",
       "75073             False         True  \n",
       "\n",
       "[69842 rows x 12 columns]"
      ]
     },
     "execution_count": 11,
     "metadata": {},
     "output_type": "execute_result"
    }
   ],
   "source": [
    "sampled_df"
   ]
  },
  {
   "cell_type": "code",
   "execution_count": 30,
   "id": "d17a62de",
   "metadata": {},
   "outputs": [
    {
     "name": "stdout",
     "output_type": "stream",
     "text": [
      "\u001b[1m1747/1747\u001b[0m \u001b[32m━━━━━━━━━━━━━━━━━━━━\u001b[0m\u001b[37m\u001b[0m \u001b[1m1s\u001b[0m 444us/step\n"
     ]
    }
   ],
   "source": [
    "train_data = pd.DataFrame(X_train, columns=X.columns)\n",
    "train_data[\"probability\"] = loaded_model.predict(X_train)\n",
    "train_data[\"prediction\"] = (train_data[\"probability\"] > 0.5).astype(int)\n",
    "train_data[\"actual\"] = y_train.values"
   ]
  },
  {
   "cell_type": "code",
   "execution_count": 27,
   "id": "02de2182",
   "metadata": {},
   "outputs": [],
   "source": [
    "features = sampled_df.drop([\"Exited\"], axis=1).columns"
   ]
  },
  {
   "cell_type": "code",
   "execution_count": 32,
   "id": "7a3129bd",
   "metadata": {},
   "outputs": [],
   "source": [
    "train_data.to_csv(\"train_data.csv\", index=False)"
   ]
  }
 ],
 "metadata": {
  "kernelspec": {
   "display_name": "ml_learning",
   "language": "python",
   "name": "python3"
  },
  "language_info": {
   "codemirror_mode": {
    "name": "ipython",
    "version": 3
   },
   "file_extension": ".py",
   "mimetype": "text/x-python",
   "name": "python",
   "nbconvert_exporter": "python",
   "pygments_lexer": "ipython3",
   "version": "3.10.16"
  }
 },
 "nbformat": 4,
 "nbformat_minor": 5
}
